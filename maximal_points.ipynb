{
  "cells": [
    {
      "cell_type": "code",
      "execution_count": 189,
      "metadata": {
        "id": "5F9mKjYO36s-"
      },
      "outputs": [],
      "source": [
        "#Author : Anmol Kumar\n",
        "# Date : 30 Jan 2024"
      ]
    },
    {
      "cell_type": "code",
      "execution_count": 190,
      "metadata": {
        "id": "_DV1toT636tB"
      },
      "outputs": [],
      "source": [
        "# Importing modules\n",
        "import random\n",
        "import matplotlib.pyplot as plt"
      ]
    },
    {
      "cell_type": "code",
      "execution_count": 191,
      "metadata": {
        "id": "hUpHTObu36tB",
        "outputId": "ace1564a-d315-48cf-87fa-06b9d6ce2731"
      },
      "outputs": [
        {
          "name": "stdout",
          "output_type": "stream",
          "text": [
            "Input Data points :  [(75, 47), (65, 55), (32, 58), (16, 36), (69, 5), (21, 77), (90, 63), (81, 84), (24, 82), (88, 85), (17, 31), (94, 36), (39, 95), (15, 69), (55, 91), (88, 65), (94, 10), (5, 87), (43, 94), (77, 54), (3, 94), (73, 87), (96, 34), (65, 21), (34, 88)]\n",
            "\n",
            "\n",
            "Data Points After sorting :  [(3, 94), (5, 87), (15, 69), (16, 36), (17, 31), (21, 77), (24, 82), (32, 58), (34, 88), (39, 95), (43, 94), (55, 91), (65, 21), (65, 55), (69, 5), (73, 87), (75, 47), (77, 54), (81, 84), (88, 65), (88, 85), (90, 63), (94, 10), (94, 36), (96, 34)]\n"
          ]
        }
      ],
      "source": [
        "x = [random.randint(1, 100) for i in range(25)]\n",
        "y = [random.randint(1, 100) for i in range(25)]\n",
        "\n",
        "data_points = []\n",
        "for i in range(len(x)):\n",
        "    data_points.append((x[i], y[i]))\n",
        "\n",
        "print(\"Input Data points : \",data_points)\n",
        "print(\"\\n\")\n",
        "\n",
        "data_points.sort() # sorting according to x-axis\n",
        "print(\"Data Points After sorting : \", data_points)\n"
      ]
    },
    {
      "cell_type": "code",
      "execution_count": 192,
      "metadata": {
        "id": "xkm6hjxe36tC"
      },
      "outputs": [],
      "source": [
        "def left_to_right(input_list):\n",
        "    comparison_count = 0\n",
        "    maximal_list = []\n",
        "    for i in range(len(input_list)):\n",
        "        comparison_count += 1\n",
        "        while maximal_list and input_list[i][1] > maximal_list[-1][1]:\n",
        "            comparison_count += 1\n",
        "            maximal_list.pop()\n",
        "        maximal_list.append(input_list[i])\n",
        "    print(\"Number of comparison : \", comparison_count)\n",
        "    return maximal_list"
      ]
    },
    {
      "cell_type": "code",
      "execution_count": 193,
      "metadata": {
        "id": "Sn-2GR6-36tC"
      },
      "outputs": [],
      "source": [
        "def right_to_left(points_list):\n",
        "    maximal_point_list = [points_list[-1]]\n",
        "    comparison  = 0\n",
        "    for i in range(len(points_list)-2, 0, -1):\n",
        "      comparison += 1\n",
        "      if maximal_point_list[-1][1] < points_list[i][1]:\n",
        "        maximal_point_list.append(points_list[i])\n",
        "    print(\"Number of Comparison : \", comparison)\n",
        "    return maximal_point_list"
      ]
    },
    {
      "cell_type": "code",
      "execution_count": 194,
      "metadata": {
        "id": "f2Vbu7mj36tC"
      },
      "outputs": [],
      "source": [
        "sort_lst = data_points"
      ]
    },
    {
      "cell_type": "code",
      "execution_count": 195,
      "metadata": {
        "id": "kaLlwM5t36tC",
        "outputId": "ed1dc52d-eb84-4322-c4f2-a8568f5f7bd8"
      },
      "outputs": [
        {
          "name": "stdout",
          "output_type": "stream",
          "text": [
            "Input Data Points :  [(3, 94), (5, 87), (15, 69), (16, 36), (17, 31), (21, 77), (24, 82), (32, 58), (34, 88), (39, 95), (43, 94), (55, 91), (65, 21), (65, 55), (69, 5), (73, 87), (75, 47), (77, 54), (81, 84), (88, 65), (88, 85), (90, 63), (94, 10), (94, 36), (96, 34)]\n"
          ]
        }
      ],
      "source": [
        "# Input Datapoints\n",
        "print(\"Input Data Points : \",data_points) # sorted according x-axis"
      ]
    },
    {
      "cell_type": "code",
      "execution_count": 196,
      "metadata": {
        "id": "uKQ7cGvg36tD",
        "outputId": "3e0977ea-09d1-4746-85c5-a5ebe3d9642c"
      },
      "outputs": [
        {
          "name": "stdout",
          "output_type": "stream",
          "text": [
            "Number of comparison :  42\n",
            "Result of Left to Right traversing :  [(39, 95), (43, 94), (55, 91), (73, 87), (88, 85), (90, 63), (94, 36), (96, 34)]\n"
          ]
        }
      ],
      "source": [
        "# Output of the left to right maximal points\n",
        "output1 = left_to_right(sort_lst)\n",
        "print(\"Result of Left to Right traversing : \",output1)"
      ]
    },
    {
      "cell_type": "code",
      "execution_count": 197,
      "metadata": {
        "id": "iaUGi4TO36tD",
        "outputId": "ebec8c91-0564-4c2a-b250-ab61c350dc55"
      },
      "outputs": [
        {
          "name": "stdout",
          "output_type": "stream",
          "text": [
            "Number of Comparison :  23\n",
            "Result of Right to Left traversing :  [(96, 34), (94, 36), (90, 63), (88, 85), (73, 87), (55, 91), (43, 94), (39, 95)]\n"
          ]
        }
      ],
      "source": [
        "# Output of the left to right maximal points\n",
        "output2 = right_to_left(sort_lst)\n",
        "print(\"Result of Right to Left traversing : \",output2)"
      ]
    },
    {
      "cell_type": "code",
      "execution_count": 198,
      "metadata": {
        "id": "FDTVWtXd36tD",
        "outputId": "afbcce40-6cbd-4184-ce84-c9e926650cf6"
      },
      "outputs": [
        {
          "data": {
            "image/png": "[encoded data removed]",
            "text/plain": [
              "<Figure size 640x480 with 1 Axes>"
            ]
          },
          "metadata": {},
          "output_type": "display_data"
        }
      ],
      "source": [
        "# Ploting the datapoints and the maximal points\n",
        "x_cor = []\n",
        "y_cor = []\n",
        "for i in range(len(output1)):\n",
        "    x_cor.append(output1[i][0])\n",
        "    y_cor.append(output1[i][1])\n",
        "\n",
        "\n",
        "plt.scatter(x, y, label = \"Data Points in the Plane\")\n",
        "plt.plot(x_cor, y_cor, label = \"Maximal Data Points\" , color = 'red')\n",
        "plt.legend()\n",
        "plt.show()"
      ]
    }
  ],
  "metadata": {
    "colab": {
      "provenance": []
    },
    "kernelspec": {
      "display_name": "Python 3",
      "language": "python",
      "name": "python3"
    },
    "language_info": {
      "codemirror_mode": {
        "name": "ipython",
        "version": 3
      },
      "file_extension": ".py",
      "mimetype": "text/x-python",
      "name": "python",
      "nbconvert_exporter": "python",
      "pygments_lexer": "ipython3",
      "version": "3.10.12"
    }
  },
  "nbformat": 4,
  "nbformat_minor": 0
}
